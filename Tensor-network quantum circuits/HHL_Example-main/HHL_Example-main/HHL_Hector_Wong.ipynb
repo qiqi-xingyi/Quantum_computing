{
 "cells": [
  {
   "cell_type": "markdown",
   "metadata": {},
   "source": [
    "Paper Source\n",
    "\n",
    "\"Step-by-Step HHL Algorithm Walkthrough to Enhance the Understanding of Critical Quantum Computing Concepts\"\n",
    "\n",
    "https://arxiv.org/abs/2108.09004\n",
    "\n",
    "<b>To cite</b>\n",
    "\n",
    "Hector Morrell and Hiu Yung Wong, \"Step-by-Step HHL Algorithm Walkthrough to Enhance the Understanding of Critical Quantum Computing Concepts\", arXiv preprint arXiv:2108.09004\n"
   ]
  },
  {
   "cell_type": "code",
   "execution_count": null,
   "metadata": {
    "colab": {
     "base_uri": "https://localhost:8080/"
    },
    "id": "TM2UtFxQ2SOb",
    "outputId": "87fbe2e0-11aa-48b1-a98f-50a31b934529"
   },
   "outputs": [],
   "source": [
    "!pip install qiskit[visualization]\n",
    "\n",
    "# Imports for Qiskit\n",
    "from qiskit import QuantumCircuit, execute, Aer, IBMQ\n",
    "from qiskit.compiler import transpile, assemble\n",
    "from qiskit.tools.jupyter import *\n",
    "from qiskit.visualization import *\n",
    "from qiskit import *\n",
    "from qiskit import IBMQ, Aer\n",
    "from qiskit import QuantumCircuit, ClassicalRegister, QuantumRegister\n",
    "from qiskit.visualization import plot_histogram\n",
    "import numpy as np\n",
    "\n",
    "# Various imports \n",
    "import numpy as np\n",
    "\n",
    "from copy import deepcopy\n",
    "from matplotlib import pyplot as plt\n",
    "\n",
    "IBMQ.save_account('Put your token')\n",
    "provider = IBMQ.load_account()\n",
    "IBMQ.get_provider(hub='ibm-q', group='open', project = 'main')"
   ]
  },
  {
   "cell_type": "code",
   "execution_count": null,
   "metadata": {
    "colab": {
     "base_uri": "https://localhost:8080/",
     "height": 276
    },
    "id": "Wwtja16C2eXL",
    "outputId": "fabc162c-19b8-4c2a-aa9f-fbbab024bf8d"
   },
   "outputs": [],
   "source": [
    "# Create the various registers needed\n",
    "clock = QuantumRegister(2, name='clock')\n",
    "input = QuantumRegister(1, name='b')\n",
    "ancilla = QuantumRegister(1, name='ancilla')\n",
    "measurement = ClassicalRegister(2, name='c')\n",
    "\n",
    "# Create an empty circuit with the specified registers\n",
    "circuit = QuantumCircuit(ancilla, clock, input, measurement)\n",
    "\n",
    "circuit.barrier()\n",
    "circuit.draw(output='mpl')"
   ]
  },
  {
   "cell_type": "code",
   "execution_count": null,
   "metadata": {
    "id": "qc_OheZk2kKM"
   },
   "outputs": [],
   "source": [
    "def qft_dagger(circ, q, n):      \n",
    "    circ.h(clock[1]);\n",
    "    for j in reversed(range(n)):\n",
    "      for k in reversed(range(j+1,n)):\n",
    "        circ.cu1(-np.pi/float(2**(k-j)), q[k], q[j]);\n",
    "    circ.h(clock[0]);\n",
    "    circ.swap(clock[0], clock[1]);\n",
    "\n",
    "def qft(circ, q, n):\n",
    "    circ.swap(clock[0], clock[1]);\n",
    "    circ.h(clock[0]);\n",
    "    for j in reversed(range(n)):\n",
    "      for k in reversed(range(j+1,n)):\n",
    "        circ.cu1(np.pi/float(2**(k-j)), q[k], q[j]);\n",
    "    circ.h(clock[1]);"
   ]
  },
  {
   "cell_type": "code",
   "execution_count": null,
   "metadata": {
    "id": "OtdDOqI_3EBa"
   },
   "outputs": [],
   "source": [
    "def qpe(circ, clock, target):\n",
    "    circuit.barrier()\n",
    "\n",
    "    # e^{i*A*t}\n",
    "    circuit.cu(np.pi/2, -np.pi/2, np.pi/2, 3*np.pi/4, clock[0], input, label='U');\n",
    "    \n",
    "    # e^{i*A*t*2}\n",
    "    circuit.cu(np.pi, np.pi, 0, 0, clock[1], input, label='U2');\n",
    "\n",
    "    circuit.barrier();\n",
    "    \n",
    "    # Perform an inverse QFT on the register holding the eigenvalues\n",
    "    qft_dagger(circuit, clock, 2)\n",
    "    \n",
    "def inv_qpe(circ, clock, target):\n",
    "    \n",
    "    # Perform a QFT on the register holding the eigenvalues\n",
    "    qft(circuit, clock, 2)\n",
    "\n",
    "    circuit.barrier()\n",
    "\n",
    "    # e^{i*A*t*2}\n",
    "    circuit.cu(np.pi, np.pi, 0, 0, clock[1], input, label='U2');\n",
    "\n",
    "    #circuit.barrier();\n",
    "\n",
    "    # e^{i*A*t}\n",
    "    circuit.cu(np.pi/2, np.pi/2, -np.pi/2, -3*np.pi/4, clock[0], input, label='U');\n",
    "\n",
    "    circuit.barrier()"
   ]
  },
  {
   "cell_type": "code",
   "execution_count": null,
   "metadata": {},
   "outputs": [],
   "source": []
  },
  {
   "cell_type": "code",
   "execution_count": null,
   "metadata": {
    "id": "v9vzO1Ut33On"
   },
   "outputs": [],
   "source": [
    "def hhl(circ, ancilla, clock, input, measurement):\n",
    "    \n",
    "    qpe(circ, clock, input)\n",
    "\n",
    "    circuit.barrier()\n",
    "    \n",
    "    # This section is to test and implement C = 1\n",
    "    circuit.cry(np.pi, clock[0], ancilla)\n",
    "    circuit.cry(np.pi/3, clock[1], ancilla)\n",
    "\n",
    "    circuit.barrier()\n",
    "    \n",
    "    circuit.measure(ancilla, measurement[0])\n",
    "    circuit.barrier()\n",
    "    inv_qpe(circ, clock, input)"
   ]
  },
  {
   "cell_type": "code",
   "execution_count": null,
   "metadata": {
    "colab": {
     "base_uri": "https://localhost:8080/"
    },
    "id": "0rJxGgI338hJ",
    "outputId": "36cbb8f4-575d-4127-f70f-1e7a84c78e77"
   },
   "outputs": [],
   "source": [
    "# State preparation. \n",
    "intial_state = [0,1]\n",
    "circuit.initialize(intial_state, 3)\n",
    "\n",
    "circuit.barrier()\n",
    "\n",
    "# Perform a Hadamard Transform\n",
    "circuit.h(clock)\n",
    "\n",
    "hhl(circuit, ancilla, clock, input, measurement)\n",
    "\n",
    "# Perform a Hadamard Transform\n",
    "circuit.h(clock)\n",
    "\n",
    "circuit.barrier()\n",
    "\n",
    "\n",
    "circuit.measure(input, measurement[1])"
   ]
  },
  {
   "cell_type": "code",
   "execution_count": null,
   "metadata": {
    "colab": {
     "base_uri": "https://localhost:8080/",
     "height": 549
    },
    "id": "-iXPk0fL4Djt",
    "outputId": "2d9eafa3-0591-465a-a032-81ac8fb2e6d9"
   },
   "outputs": [],
   "source": [
    "circuit.draw('mpl',scale=1)"
   ]
  },
  {
   "cell_type": "code",
   "execution_count": null,
   "metadata": {},
   "outputs": [],
   "source": [
    "# Execute the circuit using the simulator\n",
    "simulator = qiskit.BasicAer.get_backend('qasm_simulator')\n",
    "job = execute(circuit, backend=simulator, shots=65536)\n",
    "\n",
    "#Get the result of the execution\n",
    "result = job.result()\n",
    "\n",
    "# Get the counts, the frequency of each answer\n",
    "counts = result.get_counts(circuit)\n",
    "\n",
    "# Display the results\n",
    "plot_histogram(counts)"
   ]
  },
  {
   "cell_type": "code",
   "execution_count": null,
   "metadata": {
    "colab": {
     "base_uri": "https://localhost:8080/"
    },
    "id": "6qis0UM-Zk5F",
    "outputId": "98c9b02d-3e3e-4fd0-8fbb-64b1d1abfe36"
   },
   "outputs": [],
   "source": [
    "bcknd = Aer.get_backend('statevector_simulator')\n",
    "\n",
    "job_sim = execute(circuit, bcknd)\n",
    "result = job_sim.result()\n",
    "\n",
    "o_state_result = result.get_statevector(circuit, decimals=3)\n",
    "print(o_state_result)"
   ]
  },
  {
   "cell_type": "code",
   "execution_count": null,
   "metadata": {
    "colab": {
     "base_uri": "https://localhost:8080/"
    },
    "id": "jWJ3BfVNhz6G",
    "outputId": "0c46e67b-af47-441d-da98-39fc22c04dc3"
   },
   "outputs": [],
   "source": [
    "provider.backends()\n",
    "\n",
    "# Choose the backend on which to run the circuit\n",
    "backend = provider.get_backend('ibmq_santiago')\n",
    "\n",
    "from qiskit.tools.monitor import job_monitor\n",
    "\n",
    "# Execute the job\n",
    "job_exp = execute(circuit, backend=backend, shots=8192)\n",
    "\n",
    "# Monitor the job to know where we are in the queue\n",
    "job_monitor(job_exp, interval = 2)"
   ]
  },
  {
   "cell_type": "code",
   "execution_count": null,
   "metadata": {
    "colab": {
     "base_uri": "https://localhost:8080/",
     "height": 332
    },
    "id": "s-VdjWGfh6KP",
    "outputId": "c08df400-14c0-4adf-9c4e-f8ca0b11475f"
   },
   "outputs": [],
   "source": [
    "# Get the results from the computation\n",
    "results = job_exp.result()\n",
    "\n",
    "# Get the statistics\n",
    "answer = results.get_counts(circuit)\n",
    "\n",
    "# Plot the results\n",
    "plot_histogram(answer)"
   ]
  },
  {
   "cell_type": "code",
   "execution_count": null,
   "metadata": {},
   "outputs": [],
   "source": []
  }
 ],
 "metadata": {
  "colab": {
   "collapsed_sections": [],
   "name": "Final_HHL_2x2_Conferecnce_Wong_Morrell.ipynb",
   "provenance": []
  },
  "kernelspec": {
   "display_name": "Python 3",
   "language": "python",
   "name": "python3"
  },
  "language_info": {
   "codemirror_mode": {
    "name": "ipython",
    "version": 3
   },
   "file_extension": ".py",
   "mimetype": "text/x-python",
   "name": "python",
   "nbconvert_exporter": "python",
   "pygments_lexer": "ipython3",
   "version": "3.8.8"
  }
 },
 "nbformat": 4,
 "nbformat_minor": 1
}
